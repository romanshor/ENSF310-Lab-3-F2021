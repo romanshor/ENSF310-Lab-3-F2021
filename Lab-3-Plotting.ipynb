{
 "cells": [
  {
   "cell_type": "markdown",
   "source": [
    "# Lab 3 - Plotting Data\r\n",
    "\r\n",
    "In this lab, you will continue to work with the monthly $CO_2$ data from the Mauna Loa Observatory and plot it."
   ],
   "metadata": {}
  },
  {
   "cell_type": "markdown",
   "source": [
    "# Download the data\r\n",
    "We'll be using the same data as last week.  Either use last week's file or go to the Global Monitoring Laboratory website (<https://gml.noaa.gov/ccgg/trends/data.html>) and download the monthly mean data and place the file in the same directory as this Python Notebook.\r\n",
    "\r\n",
    "# Plotting the data\r\n",
    "In this lab you will create a figure with several subplots.\r\n",
    "\r\n",
    "## Top subplot\r\n",
    "The top subplot should show the monthly $CO_2$ data (in black) and the 12 month rolling average (in red).  Pandas dataframes have a function called `rolling()` which may be useful.\r\n",
    "\r\n",
    "## Bottom left subplot\r\n",
    "The bottom left subplot should show the average seasonal trend in $CO_2$.  To detrend the data, it may be useful to subtract the 12 month rolling average of $CO_2$ from the monthly data and use the `groupby` function.\r\n",
    "\r\n",
    "## Bottom right subplot\r\n",
    "The bottom right plot should show the annual increase in $CO_2$ vs year.  Again, the `groupby` function may be helpful.\r\n",
    "\r\n",
    "You should not have more than 30 lines of code to complete this lab, and you do not need ot use any loops.  Your final figure should look something like this:\r\n",
    "\r\n",
    "![Example Figure](example-figure.png \"Example figure\")\r\n"
   ],
   "metadata": {}
  },
  {
   "cell_type": "code",
   "execution_count": 1,
   "source": [
    "# import pandas\r\n",
    "import pandas\r\n",
    "\r\n",
    "# import the matplotlib library, also the pyplot function\r\n",
    "import matplotlib.pyplot as plt\r\n"
   ],
   "outputs": [],
   "metadata": {}
  },
  {
   "cell_type": "code",
   "execution_count": null,
   "source": [],
   "outputs": [],
   "metadata": {}
  }
 ],
 "metadata": {
  "orig_nbformat": 4,
  "language_info": {
   "name": "python",
   "version": "3.8.3",
   "mimetype": "text/x-python",
   "codemirror_mode": {
    "name": "ipython",
    "version": 3
   },
   "pygments_lexer": "ipython3",
   "nbconvert_exporter": "python",
   "file_extension": ".py"
  },
  "kernelspec": {
   "name": "python3",
   "display_name": "Python 3.8.3 64-bit ('base': conda)"
  },
  "interpreter": {
   "hash": "532ca4eccceed63668e63435958ee5e649cbcf47c68f2e960cf9dfc9eec887ec"
  }
 },
 "nbformat": 4,
 "nbformat_minor": 2
}